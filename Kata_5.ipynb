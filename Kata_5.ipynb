{
 "cells": [
  {
   "cell_type": "markdown",
   "metadata": {},
   "source": [
    "# Ejercicio1 - Utilizar operadores aritméticos\n",
    "Operadores aritméticos en Python\n",
    "Python proporciona operadores aritméticos comunes para que puedas realizar operaciones matemáticas en tu código. Estos incluyen las cuatro operaciones principales de suma, resta, multiplicación y división.\n",
    "\n",
    "Exploremos cómo podemos crear un programa que pueda calcular la distancia entre dos planetas. Comenzaremos usando dos distancias de planetas: Tierra (149.597.870 km) y Júpiter (778.547.200 km)."
   ]
  },
  {
   "cell_type": "code",
   "execution_count": 3,
   "metadata": {},
   "outputs": [],
   "source": [
    "# Crear variables para asignar los valores\n",
    "\n",
    "Tierra = 149597870\n",
    "Jupiter = 778547200"
   ]
  },
  {
   "cell_type": "markdown",
   "metadata": {},
   "source": [
    "**Realizar la operación**\n",
    "\n",
    "Con los valores obtenidos, es el momento de añadir el código para realizar la operación. Restarás el primer planeta del segundo para determinar la distancia en kilómetros. A continuación, puedes convertir la distancia del kilómetro en millas multiplicándola por 0.621."
   ]
  },
  {
   "cell_type": "code",
   "execution_count": 8,
   "metadata": {},
   "outputs": [
    {
     "name": "stdout",
     "output_type": "stream",
     "text": [
      "La distancia entre la tierra y Jupiter en millas es: 390577533.93\n"
     ]
    }
   ],
   "source": [
    "dist_mill = (Jupiter - Tierra)* 0.621\n",
    "print( \"La distancia entre la tierra y Jupiter en millas es: \" +  str(dist_mill))"
   ]
  },
  {
   "cell_type": "markdown",
   "metadata": {},
   "source": [
    "# **Ejercicio 2: convierte cadenas en números y usa valores absolutos**\n",
    "\n",
    "Crear una aplicación para trabajar con números y entrada de usuario\n",
    "Con frecuencia, deberás convertir los valores de cadena en números para realizar correctamente diferentes operaciones o determinar el valor absoluto de un número.\n",
    "\n",
    "Para crear nuestra aplicación, queremos leer la distancia del sol para dos planetas, y luego mostrar la distancia entre los planetas. Haremos esto usando input para leer los valores, int para convertir a entero y luego abs para convertir el resultado en su valor absoluto."
   ]
  },
  {
   "cell_type": "markdown",
   "metadata": {},
   "source": [
    "**Ejercicio 2: convierte cadenas en números y usa valores absolutos**\n",
    "\n",
    "Crear una aplicación para trabajar con números y entrada de usuario\n",
    "Con frecuencia, deberás convertir los valores de cadena en números para realizar correctamente diferentes operaciones o determinar el valor absoluto de un número.\n",
    "\n",
    "Para crear nuestra aplicación, queremos leer la distancia del sol para dos planetas, y luego mostrar la distancia entre los planetas. Haremos esto usando input para leer los valores, int para convertir a entero y luego abs para convertir el resultado en su valor absoluto."
   ]
  },
  {
   "cell_type": "code",
   "execution_count": 16,
   "metadata": {},
   "outputs": [],
   "source": [
    "Primer_Planeta = input(\"Ingresa el primer planeta: \")\n",
    "Segundo_planeta = input(\"ingresa el segundo planeta: \")"
   ]
  },
  {
   "cell_type": "code",
   "execution_count": 2,
   "metadata": {},
   "outputs": [
    {
     "name": "stdout",
     "output_type": "stream",
     "text": [
      "La distancia en millas es: 105570000.0\n"
     ]
    }
   ],
   "source": [
    "Primer_Planeta = input(\"Ingresa el primer planeta: \").lower()\n",
    "Segundo_planeta = input(\"ingresa el segundo planeta: \").lower()\n",
    "\n",
    "# print(Primer_Planeta)\n",
    "\n",
    "Planetas = [\"mercurio\", \"venus\", \"tierra\", \"marte\", \"jupiter\", \"saturno\", \"urano\", \"neptuno\"]\n",
    "Distancias = [57900000, 108200000, 149600000, 227900000, 778600000 , 1433500000, 2872500000, 4495100000]\n",
    "\n",
    "if Primer_Planeta in Planetas:\n",
    "            num_1 = Distancias[Planetas.index(Primer_Planeta)]\n",
    "            # print(num_1)\n",
    "else:\n",
    "    print(\"El Primer planeta no existe morr@ :)\")\n",
    "    num_1 = -1\n",
    "\n",
    "\n",
    "if Segundo_planeta in Planetas:\n",
    "            num_2 = Distancias[Planetas.index(Segundo_planeta)]\n",
    "            # print(num_2)\n",
    "else:\n",
    "    print(\"El Segundp planeta no existe morr@ :)\")\n",
    "    num_2 = -1\n",
    "\n",
    "\n",
    "\n",
    "if num_1 == -1 or num_2 == -1:\n",
    "    print(\"no se puede realizar la operacion por que uno de los valores que ingresaste no existe, vuelve a intentarlo :)\")\n",
    "else:\n",
    "    distancia = (num_1 - num_2)* 0.621\n",
    "    print (\"La distancia en millas es: \" + str(abs(distancia)))\n",
    "\n",
    "        \n"
   ]
  },
  {
   "cell_type": "code",
   "execution_count": null,
   "metadata": {},
   "outputs": [],
   "source": []
  }
 ],
 "metadata": {
  "interpreter": {
   "hash": "081837b0d89a1a11c7e12cfb777b4296fc9d5cdb4add819a1b66bd9acaab463f"
  },
  "kernelspec": {
   "display_name": "Python 3.10.2 64-bit",
   "language": "python",
   "name": "python3"
  },
  "language_info": {
   "codemirror_mode": {
    "name": "ipython",
    "version": 3
   },
   "file_extension": ".py",
   "mimetype": "text/x-python",
   "name": "python",
   "nbconvert_exporter": "python",
   "pygments_lexer": "ipython3",
   "version": "3.10.2"
  },
  "orig_nbformat": 4
 },
 "nbformat": 4,
 "nbformat_minor": 2
}
