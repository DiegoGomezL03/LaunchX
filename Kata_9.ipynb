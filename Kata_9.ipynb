{
 "cells": [
  {
   "cell_type": "markdown",
   "metadata": {},
   "source": [
    "# Ejercicio: Uso de funciones en Python\n",
    "**Ejercicio 1: Trabajar con argumentos en funciones**\n",
    "\n",
    "Los argumentos requeridos en las funciones se utilizan cuando las funciones necesitan que esos argumentos funcionen correctamente. En este ejercicio, construirás un informe de combustible que requiere información de varias ubicaciones de combustible en todo el cohete.\n",
    "\n",
    "Comienza por crear una función que necesite tres lecturas de combustible y devuelva un informe:"
   ]
  },
  {
   "cell_type": "code",
   "execution_count": 24,
   "metadata": {},
   "outputs": [],
   "source": [
    "def Combustible (Lect1, Lect2, Lec3):\n",
    "    total = round((Lect1 + Lect2 + Lec3)/3, 3)\n",
    "    return f\"\"\"Fuel Report:\n",
    "    Total Promedio: {total}%\n",
    "    Lectura 1: {Lect1}%\n",
    "    Lectura 2: {Lect2}%\n",
    "    Lectura 3: {Lec3}% \n",
    "    \"\"\"\n",
    "\n",
    "\n",
    " "
   ]
  },
  {
   "cell_type": "markdown",
   "metadata": {},
   "source": [
    "Ahora que hemos definido la función de informes, vamos a comprobarlo. Para esta misión, los tanques no están llenos:"
   ]
  },
  {
   "cell_type": "code",
   "execution_count": 25,
   "metadata": {},
   "outputs": [
    {
     "name": "stdout",
     "output_type": "stream",
     "text": [
      "Fuel Report:\n",
      "    Total Promedio: 31.667%\n",
      "    Lectura 1: 62%\n",
      "    Lectura 2: 29%\n",
      "    Lectura 3: 4% \n",
      "    \n"
     ]
    }
   ],
   "source": [
    "def Random ():\n",
    "    import random\n",
    "    aleatorio = random.randrange(100)\n",
    "    return aleatorio\n",
    "\n",
    "print(Combustible(Random(),Random(),Random()))"
   ]
  },
  {
   "cell_type": "markdown",
   "metadata": {},
   "source": [
    "En lugar de simplemente crear el informe, la función también está calculando el promedio. Mejora la legibilidad extrayendo el cálculo promedio de la función en una nueva función para que el promedio se pueda hacer de forma independiente:"
   ]
  },
  {
   "cell_type": "code",
   "execution_count": 34,
   "metadata": {},
   "outputs": [
    {
     "name": "stdout",
     "output_type": "stream",
     "text": [
      "18.0\n"
     ]
    }
   ],
   "source": [
    "def Promedio (valores):\n",
    "    total = sum(valores)\n",
    "    tlec = len(valores)\n",
    "    return total/tlec\n",
    "\n",
    "val = [15, 18, 21]\n",
    "\n",
    "print(Promedio(val))"
   ]
  },
  {
   "cell_type": "markdown",
   "metadata": {},
   "source": [
    "Ahora actualiza la función de informes para llamando a la nueva función del promedio:"
   ]
  },
  {
   "cell_type": "code",
   "execution_count": 35,
   "metadata": {},
   "outputs": [
    {
     "name": "stdout",
     "output_type": "stream",
     "text": [
      "Fuel Report:\n",
      "    Total Promedio: 62.0%\n",
      "    Lectura 1: 43%\n",
      "    Lectura 2: 77%\n",
      "    Lectura 3: 66% \n",
      "    \n"
     ]
    }
   ],
   "source": [
    "def Random ():\n",
    "    import random\n",
    "    aleatorio = random.randrange(100)\n",
    "    return aleatorio\n",
    "\n",
    "def Combustible (Lect1, Lect2, Lec3):\n",
    "    return f\"\"\"Fuel Report:\n",
    "    Total Promedio: {round(Promedio([Lect1,Lect2,Lec3]),3)}%\n",
    "    Lectura 1: {Lect1}%\n",
    "    Lectura 2: {Lect2}%\n",
    "    Lectura 3: {Lec3}% \n",
    "    \"\"\"\n",
    "\n",
    "print(Combustible(Random(),Random(),Random()))"
   ]
  },
  {
   "cell_type": "markdown",
   "metadata": {},
   "source": [
    "# Ejercicio 2: Trabajo con argumentos de palabra clave\n",
    "\n",
    "**Ejercicio : Trabajar con argumentos de palabras clave en funciones**\n",
    "\n",
    "En este ejercicio, construirás un informe de cohete que requiere varias piezas de información, como el tiempo hasta el destino, el combustible a la izquierda y el nombre del destino. Comienza por crear una función que creará un informe preciso de la misión:"
   ]
  },
  {
   "cell_type": "code",
   "execution_count": 37,
   "metadata": {},
   "outputs": [
    {
     "name": "stdout",
     "output_type": "stream",
     "text": [
      "Informe de la misión a : Moon\n",
      "    prelanzamiento: 15 min\n",
      "    El timepo de vuelo fue: 45 min\n",
      "    capacidad del tanque externo: 75%\n",
      "    Capacidad del tanque interno: 45%\n",
      "    \n"
     ]
    }
   ],
   "source": [
    "def informe_mis (prelanzamiento, tiempo_vuelo, destino, tanque_ext, tanque_int):\n",
    "    return f\"\"\"Informe de la misión a : {destino}\n",
    "    prelanzamiento: {prelanzamiento} min\n",
    "    El timepo de vuelo fue: {tiempo_vuelo} min\n",
    "    capacidad del tanque externo: {tanque_ext}%\n",
    "    Capacidad del tanque interno: {tanque_int}%\n",
    "    \"\"\"\n",
    "\n",
    "print(informe_mis(15,45,\"Moon\", 75,45))"
   ]
  },
  {
   "cell_type": "markdown",
   "metadata": {},
   "source": [
    "La función es problemática porque no se puede adaptar para minutos adicionales o tanques adicionales de combustible. Hazlo más flexible permitiendo cualquier número de pasos basados en el tiempo y cualquier número de tanques. En lugar de usar *args y **kwargs, aprovecha el hecho de que puedes usar cualquier nombre que desees. Asegurate que la función sea más legible mediante el uso de nombres de variables que están asociados con las entradas, como *minutes y **fuel_reservoirs:"
   ]
  },
  {
   "cell_type": "code",
   "execution_count": 39,
   "metadata": {},
   "outputs": [
    {
     "name": "stdout",
     "output_type": "stream",
     "text": [
      "Reporte de Misión\n",
      "    Mision con destino a : Moon\n",
      "    tiempo total de viaje : 76 min\n",
      "    Combustible restante : 500000 Lts.\n"
     ]
    }
   ],
   "source": [
    "def mision (destino, *minutos, **tanques_combustible):\n",
    "    return f\"\"\"Reporte de Misión\n",
    "    Mision con destino a : {destino}\n",
    "    tiempo total de viaje : {sum(minutos)} min\n",
    "    Combustible restante : {sum(tanques_combustible.values())} Lts.\"\"\"\n",
    "\n",
    "print(mision(\"Moon\", 10, 15, 51, main=300000, external=200000))"
   ]
  },
  {
   "cell_type": "markdown",
   "metadata": {},
   "source": [
    "Debido a que el combustible que queda en los tanques es específico de cada tanque, actualiza la función para usar el nombre de cada tanque en el informe:"
   ]
  },
  {
   "cell_type": "code",
   "execution_count": 46,
   "metadata": {},
   "outputs": [
    {
     "name": "stdout",
     "output_type": "stream",
     "text": [
      "\n",
      "    Mision con destino a: Moon\n",
      "    Tiempo Total de viaje: 74 minutos\n",
      "    Total fuel left: 500000\n",
      "    Tanque principal  --> 300000 litros restantes\n",
      "Tanque externo  --> 200000 litros restantes\n",
      "\n"
     ]
    }
   ],
   "source": [
    "def mision (destino, *minutos, **tanques_combustible):\n",
    "    reporte = f\"\"\"\n",
    "    Mision con destino a: {destino}\n",
    "    Tiempo Total de viaje: {sum(minutos)} minutos\n",
    "    Total fuel left: {sum(tanques_combustible.values())}\n",
    "    \"\"\"\n",
    "    for nombre_tanque, Litros in tanques_combustible.items():\n",
    "        reporte += f\"Tanque {nombre_tanque}  --> {Litros} litros restantes\\n\"\n",
    "    return reporte\n",
    "\n",
    "print(mision(\"Moon\", 8, 11, 55, principal =300000, externo=200000))"
   ]
  }
 ],
 "metadata": {
  "interpreter": {
   "hash": "081837b0d89a1a11c7e12cfb777b4296fc9d5cdb4add819a1b66bd9acaab463f"
  },
  "kernelspec": {
   "display_name": "Python 3.10.2 64-bit",
   "language": "python",
   "name": "python3"
  },
  "language_info": {
   "codemirror_mode": {
    "name": "ipython",
    "version": 3
   },
   "file_extension": ".py",
   "mimetype": "text/x-python",
   "name": "python",
   "nbconvert_exporter": "python",
   "pygments_lexer": "ipython3",
   "version": "3.10.2"
  },
  "orig_nbformat": 4
 },
 "nbformat": 4,
 "nbformat_minor": 2
}
