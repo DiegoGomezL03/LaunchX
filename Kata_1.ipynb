{
 "cells": [
  {
   "cell_type": "markdown",
   "metadata": {},
   "source": [
    "## Tu primer programa"
   ]
  },
  {
   "cell_type": "code",
   "execution_count": 82,
   "metadata": {},
   "outputs": [
    {
     "name": "stdout",
     "output_type": "stream",
     "text": [
      "Today's date is: 2022-02-07\n"
     ]
    }
   ],
   "source": [
    "from datetime import date\n",
    "today=date.today()\n",
    "\n",
    "print(\"Today's date is: \"+ str(today))"
   ]
  },
  {
   "cell_type": "markdown",
   "metadata": {},
   "source": [
    "Construir un convertidor de unidades\n",
    "\n",
    "El oficial superior> \"Necesito una cosa más: un programa de conversión entre parsecs y años luz. Tener un programa de este tipo podría ser realmente útil en el puente para trazar nuestro curso\".\n",
    "\n",
    "Tú> \"¡Lo haré!\""
   ]
  },
  {
   "cell_type": "code",
   "execution_count": 2,
   "metadata": {},
   "outputs": [
    {
     "name": "stdout",
     "output_type": "stream",
     "text": [
      "11 parsec, is 35.877159999999996  lightyears\n"
     ]
    }
   ],
   "source": [
    "parsec = 11\n",
    "\n",
    "lightyears = 3.26156 * parsec\n",
    "\n",
    "print(f\"{parsec} parsec, is {lightyears}  lightyears\")"
   ]
  },
  {
   "cell_type": "code",
   "execution_count": 84,
   "metadata": {},
   "outputs": [
    {
     "name": "stdout",
     "output_type": "stream",
     "text": [
      "Bienvenido al programa de bienvenida\n",
      "Saludos: Diego}\n"
     ]
    }
   ],
   "source": [
    "print(\"Bienvenido al programa de bienvenida\")\n",
    "name = input(\"Introduzca su nombre \")\n",
    "print(\"Saludos: \" + name)"
   ]
  },
  {
   "cell_type": "code",
   "execution_count": 85,
   "metadata": {},
   "outputs": [
    {
     "name": "stdout",
     "output_type": "stream",
     "text": [
      "Calculadora\n",
      "9.0\n"
     ]
    }
   ],
   "source": [
    "print(\"Calculadora\")\n",
    "first_number = input(\"Primer número: \")\n",
    "second_number = input(\"Segundo número: \")\n",
    "print(int(first_number) + float (second_number))"
   ]
  },
  {
   "cell_type": "code",
   "execution_count": 86,
   "metadata": {},
   "outputs": [
    {
     "name": "stdout",
     "output_type": "stream",
     "text": [
      "97\n"
     ]
    }
   ],
   "source": [
    "a = 97\n",
    "b = 55\n",
    "\n",
    "if a < b:\n",
    "    print (b)\n",
    "print (a)"
   ]
  },
  {
   "cell_type": "code",
   "execution_count": 87,
   "metadata": {},
   "outputs": [
    {
     "name": "stdout",
     "output_type": "stream",
     "text": [
      "44\n"
     ]
    }
   ],
   "source": [
    "a = 24\n",
    "b = 44\n",
    "if a <= 0:\n",
    "    print(a)\n",
    "print(b)"
   ]
  },
  {
   "cell_type": "code",
   "execution_count": 14,
   "metadata": {},
   "outputs": [
    {
     "name": "stdout",
     "output_type": "stream",
     "text": [
      "ADVERTENCIA! Se acerca un asteroide demasiado grande 89 mts,  que causara mucho daño, aunque no a gran velocidad:14km/h\n"
     ]
    }
   ],
   "source": [
    " import random\n",
    " aleatorio = random.randrange(50)\n",
    " tam = random . randrange(5,1500)\n",
    "\n",
    "Vasteroide = int(aleatorio)\n",
    "tamaño =  int(tam)\n",
    "\n",
    "if Vasteroide >= 25 and ta maño >= 25:\n",
    "    print (\"ADVERTENCIA! Se acerca un asteroide demasido Rapido \\n La velocidad del asteroide es:\" + str(Vasteroide) + \" km/h y es demasiado grande \" + str(tamaño) +  \" mts causara mucho daño\\n Veremos un haz de luz \")\n",
    " elif Vasteroide < 25 and tamaño >= 25 :\n",
    "        print (\"ADVERTENCIA! Se acerca un asteroide demasiado grande \" + str (tamaño) + \" mts,  que causara mucho daño, aunque no a gran velocidad:\" +  str(Vasteroide) + \"km/h\")\n",
    "elif Vasteroide >=25 and tamaño < 25:\n",
    "            print (\"Advertencia! Se acerca un asteroide a gran velocidad, aunque su tamaño no es considerable.\")\n",
    "else : print (\"el tamaño del asteroide es: \" + str(tamaño) + \"mts, nada de que preocuparse\")"
   ]
  }
 ],
 "metadata": {
  "interpreter": {
   "hash": "081837b0d89a1a11c7e12cfb777b4296fc9d5cdb4add819a1b66bd9acaab463f"
  },
  "kernelspec": {
   "display_name": "Python 3.10.2 64-bit",
   "language": "python",
   "name": "python3"
  },
  "language_info": {
   "codemirror_mode": {
    "name": "ipython",
    "version": 3
   },
   "file_extension": ".py",
   "mimetype": "text/x-python",
   "name": "python",
   "nbconvert_exporter": "python",
   "pygments_lexer": "ipython3",
   "version": "3.10.2"
  },
  "orig_nbformat": 4
 },
 "nbformat": 4,
 "nbformat_minor": 2
}
