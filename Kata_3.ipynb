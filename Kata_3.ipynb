{
 "cells": [
  {
   "cell_type": "code",
   "execution_count": 5,
   "metadata": {},
   "outputs": [
    {
     "name": "stdout",
     "output_type": "stream",
     "text": [
      "ADVERTENCIA! Se acerca un asteroide demasiado grande 918 mts,  que causara mucho daño, aunque no a gran velocidad:16km/h\n"
     ]
    }
   ],
   "source": [
    "import random\n",
    "aleatorio = random.randrange(50)\n",
    "tam = random . randrange(5,1500)\n",
    "\n",
    "Vasteroide = int(aleatorio)\n",
    "tamaño =  int(tam)\n",
    "\n",
    "if Vasteroide >= 25 and tamaño >= 25:\n",
    "    print (\"ADVERTENCIA! Se acerca un asteroide demasido Rapido \\n La velocidad del asteroide es:\" + str(Vasteroide) + \" km/h y es demasiado grande \" + str(tamaño) +  \" mts causara mucho daño\\n Veremos un haz de luz \")\n",
    "elif Vasteroide < 25 and tamaño >= 25 :\n",
    "        print (\"ADVERTENCIA! Se acerca un asteroide demasiado grande \" + str (tamaño) + \" mts,  que causara mucho daño, aunque no a gran velocidad:\" +  str(Vasteroide) + \"km/h\")\n",
    "elif Vasteroide >=25 and tamaño < 25:\n",
    "            print (\"Advertencia! Se acerca un asteroide a gran velocidad, aunque su tamaño no es considerable.\")\n",
    "else : print (\"el tamaño del asteroide es: \" + str(tamaño) + \"mts, nada de que preocuparse\")"
   ]
  }
 ],
 "metadata": {
  "interpreter": {
   "hash": "081837b0d89a1a11c7e12cfb777b4296fc9d5cdb4add819a1b66bd9acaab463f"
  },
  "kernelspec": {
   "display_name": "Python 3.10.2 64-bit",
   "language": "python",
   "name": "python3"
  },
  "language_info": {
   "codemirror_mode": {
    "name": "ipython",
    "version": 3
   },
   "file_extension": ".py",
   "mimetype": "text/x-python",
   "name": "python",
   "nbconvert_exporter": "python",
   "pygments_lexer": "ipython3",
   "version": "3.10.2"
  },
  "orig_nbformat": 4
 },
 "nbformat": 4,
 "nbformat_minor": 2
}
