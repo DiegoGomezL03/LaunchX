{
 "cells": [
  {
   "cell_type": "markdown",
   "metadata": {},
   "source": [
    "## Ejercicio1: Crear y usar listas de Python\n",
    "\n",
    "**Ejercicio: Usar listas para almacenar nombres de planetas**\n",
    "\n",
    "Las listas permiten almacenar varios valores en una sola variable. Comenzarás un proyecto sobre información planetaria creando una lista de planetas."
   ]
  },
  {
   "cell_type": "code",
   "execution_count": 7,
   "metadata": {},
   "outputs": [
    {
     "name": "stdout",
     "output_type": "stream",
     "text": [
      "El numero de planetas es:  8\n",
      "Actualmente son 9 planetas en el sistema solar.\n"
     ]
    }
   ],
   "source": [
    "Planets = [\"mercurio\", \"venus\",\"tierra\" ,\"marte\", \"jupiter\", \"saturno\", \"urano\", \"neptuno\"]\n",
    "\n",
    "num_planets = len(Planets)\n",
    "print(\"El numero de planetas es: \", num_planets)\n",
    "\n",
    "Planets.append('Pluton')\n",
    "number_of_planets = len(Planets)\n",
    "print('Actualmente son', number_of_planets, 'planetas en el sistema solar.')"
   ]
  },
  {
   "cell_type": "markdown",
   "metadata": {},
   "source": [
    "## Ejercicio 2: Trabajando con datos de una lista\n",
    "\n",
    "**Usar slices para recuperar partes de una lista**\n",
    "\n",
    "Es posible que debas trabajar con diferentes secciones de una lista. En nuestro ejemplo, queremos mostrar planetas más cerca y más lejos del sol de un planeta que el usuario ingresa por teclado.\n",
    "\n",
    "Comienza agregando el código para crear una lista con los planetas."
   ]
  },
  {
   "cell_type": "code",
   "execution_count": 9,
   "metadata": {},
   "outputs": [
    {
     "name": "stdout",
     "output_type": "stream",
     "text": [
      "Tu planeta ocupa la posicion 3\n"
     ]
    }
   ],
   "source": [
    "Planets = [\"mercurio\", \"venus\",\"tierra\" ,\"marte\", \"jupiter\", \"saturno\", \"urano\", \"neptuno\"]\n",
    "\n",
    "Planeta = input(\"Ingresa el nombre de un planeta: \")\n",
    "Planeta_index = Planets.index(Planeta)\n",
    "\n",
    "print (\"Tu planeta ocupa la posicion\", Planeta_index +1, \"en el sistema solar.\")\n"
   ]
  },
  {
   "cell_type": "markdown",
   "metadata": {},
   "source": [
    "### Mostrar planetas más cercanos al sol que el que el usuario ingresó\n",
    "Con el índice determinado, ahora puedes agregar el código para mostrar los planetas más cercanos al sol."
   ]
  },
  {
   "cell_type": "code",
   "execution_count": 10,
   "metadata": {},
   "outputs": [
    {
     "name": "stdout",
     "output_type": "stream",
     "text": [
      "['mercurio', 'venus']\n"
     ]
    }
   ],
   "source": [
    "before = Planets [0: Planeta_index]\n",
    "print (before)"
   ]
  },
  {
   "cell_type": "markdown",
   "metadata": {},
   "source": [
    "### Mostrar planetas más alejados del sol que el que el usuario ingresó\n",
    "\n",
    "Puedes usar el mismo índice para mostrar planetas más alejados del sol. Sin embargo, recuerda que el índice inicial se incluye cuando usas un slice. Como resultado, tendrás que agregar 1 al valor. Agrega el código para mostrar los planetas más alejados del sol."
   ]
  },
  {
   "cell_type": "code",
   "execution_count": 13,
   "metadata": {},
   "outputs": [
    {
     "name": "stdout",
     "output_type": "stream",
     "text": [
      "['marte', 'jupiter', 'saturno', 'urano', 'neptuno']\n"
     ]
    }
   ],
   "source": [
    "after = Planets [(Planeta_index+1):]\n",
    "print (after)"
   ]
  }
 ],
 "metadata": {
  "interpreter": {
   "hash": "7b632a259e84630f607accf36776cca545e069aecd878fadeea6fc781eaef1ed"
  },
  "kernelspec": {
   "display_name": "Python 3.10.2 64-bit (windows store)",
   "language": "python",
   "name": "python3"
  },
  "language_info": {
   "codemirror_mode": {
    "name": "ipython",
    "version": 3
   },
   "file_extension": ".py",
   "mimetype": "text/x-python",
   "name": "python",
   "nbconvert_exporter": "python",
   "pygments_lexer": "ipython3",
   "version": "3.10.2"
  },
  "orig_nbformat": 4
 },
 "nbformat": 4,
 "nbformat_minor": 2
}
